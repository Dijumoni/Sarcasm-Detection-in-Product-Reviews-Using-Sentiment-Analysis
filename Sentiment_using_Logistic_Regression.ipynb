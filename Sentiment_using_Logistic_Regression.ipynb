{
  "cells": [
    {
      "cell_type": "code",
      "execution_count": null,
      "metadata": {
        "id": "9P_ROWFJvJxm"
      },
      "outputs": [],
      "source": [
        "from google.colab import drive"
      ]
    },
    {
      "cell_type": "code",
      "execution_count": null,
      "metadata": {
        "colab": {
          "base_uri": "https://localhost:8080/"
        },
        "id": "_-PfyLgZxQHs",
        "outputId": "d6e86a68-87e3-48bd-fdf8-c2821564ce30"
      },
      "outputs": [
        {
          "output_type": "stream",
          "name": "stdout",
          "text": [
            "Mounted at /content/drive\n"
          ]
        }
      ],
      "source": [
        "drive.mount('/content/drive')"
      ]
    },
    {
      "cell_type": "code",
      "execution_count": null,
      "metadata": {
        "id": "5lEsrOj5xSJl"
      },
      "outputs": [],
      "source": [
        "import pandas as pd\n",
        "import numpy as np"
      ]
    },
    {
      "cell_type": "markdown",
      "metadata": {
        "id": "WVw3AXI5tf4s"
      },
      "source": [
        "# Read the dataset"
      ]
    },
    {
      "cell_type": "code",
      "execution_count": null,
      "metadata": {
        "id": "sYdmc6PPxa6l"
      },
      "outputs": [],
      "source": [
        "df = pd.read_csv('/content/drive/MyDrive/data/Amazon Reviews/Review1.csv')"
      ]
    },
    {
      "cell_type": "code",
      "execution_count": null,
      "metadata": {
        "id": "vT9wCwgDxgfq"
      },
      "outputs": [],
      "source": []
    },
    {
      "cell_type": "code",
      "execution_count": null,
      "metadata": {
        "id": "D1nNU965xjZQ"
      },
      "outputs": [],
      "source": [
        "import string\n",
        "import inspect\n",
        "import seaborn as sns"
      ]
    },
    {
      "cell_type": "markdown",
      "metadata": {
        "id": "s0rRU4M3tk-x"
      },
      "source": [
        "Define a function to map ratings to binary values\n"
      ]
    },
    {
      "cell_type": "code",
      "execution_count": null,
      "metadata": {
        "id": "3FiM9X8Zx2F4"
      },
      "outputs": [],
      "source": [
        "def rating(num):\n",
        "    if(num == 1):\n",
        "        return 0\n",
        "    else:\n",
        "        return 1"
      ]
    },
    {
      "cell_type": "code",
      "execution_count": null,
      "metadata": {
        "id": "Kcndq_t0x6Ih"
      },
      "outputs": [],
      "source": [
        "colnames = ['Rating', 'Title', 'Description']\n",
        "df = pd.read_csv('/content/drive/MyDrive/data/Amazon Reviews/Review1.csv', names=colnames)\n",
        "df = df.sample(10000, random_state = 42)\n",
        "df['Reviews'] = df['Title'] + ' . ' + df['Description']\n",
        "df = df.drop(['Title','Description'], axis=1)\n",
        "df['Rating'] = df['Rating'].apply(rating)"
      ]
    },
    {
      "cell_type": "code",
      "execution_count": null,
      "metadata": {
        "id": "q8yifajFx_PC"
      },
      "outputs": [],
      "source": [
        "# remove 'No Negative' or 'No Positive' from text\n",
        "df['Reviews'] = df['Reviews'].apply(lambda x: x.replace(\"No Negative\", \"\").replace(\"No Positive\", \"\"))"
      ]
    },
    {
      "cell_type": "code",
      "execution_count": null,
      "metadata": {
        "colab": {
          "base_uri": "https://localhost:8080/"
        },
        "id": "vhCD54QnyLAZ",
        "outputId": "23603990-30f5-452d-b7cc-ca113ccea29b"
      },
      "outputs": [
        {
          "output_type": "stream",
          "name": "stderr",
          "text": [
            "[nltk_data] Downloading package stopwords to /root/nltk_data...\n",
            "[nltk_data]   Unzipping corpora/stopwords.zip.\n",
            "[nltk_data] Downloading package wordnet to /root/nltk_data...\n"
          ]
        },
        {
          "output_type": "execute_result",
          "data": {
            "text/plain": [
              "True"
            ]
          },
          "metadata": {},
          "execution_count": 9
        }
      ],
      "source": [
        "import nltk\n",
        "from nltk import pos_tag\n",
        "from nltk.corpus import stopwords\n",
        "from nltk.tokenize import WhitespaceTokenizer\n",
        "from nltk.stem import WordNetLemmatizer\n",
        "nltk.download('stopwords')\n",
        "nltk.download('wordnet')"
      ]
    },
    {
      "cell_type": "code",
      "execution_count": null,
      "metadata": {
        "colab": {
          "base_uri": "https://localhost:8080/",
          "height": 337
        },
        "id": "sl_OItEjyYS6",
        "outputId": "50926c7a-ac6f-44d8-ea66-45aff8839505"
      },
      "outputs": [
        {
          "output_type": "execute_result",
          "data": {
            "text/plain": [
              "         Rating                                            Reviews  \\\n",
              "2079998       0  Expensive Junk . This product consists of a pi...   \n",
              "1443106       0  Toast too dark . Even on the lowest setting, t...   \n",
              "3463669       1  Excellent imagery...dumbed down story . I enjo...   \n",
              "2914699       0  Are we pretending everyone is married? . The a...   \n",
              "1603231       0  Not worth your time . Might as well just use a...   \n",
              "\n",
              "                                              review_clean  \n",
              "2079998  expensive junk product consists piece thin fle...  \n",
              "1443106  toast dark even lowest setting toast dark liki...  \n",
              "3463669  excellent imagery...dumbed story enjoyed disc ...  \n",
              "2914699  pretending everyone married author pretend par...  \n",
              "1603231  not worth time might well use knife product ho...  "
            ],
            "text/html": [
              "\n",
              "  <div id=\"df-fd3e888a-9c7a-4a4b-91d7-1af7c70a6f44\">\n",
              "    <div class=\"colab-df-container\">\n",
              "      <div>\n",
              "<style scoped>\n",
              "    .dataframe tbody tr th:only-of-type {\n",
              "        vertical-align: middle;\n",
              "    }\n",
              "\n",
              "    .dataframe tbody tr th {\n",
              "        vertical-align: top;\n",
              "    }\n",
              "\n",
              "    .dataframe thead th {\n",
              "        text-align: right;\n",
              "    }\n",
              "</style>\n",
              "<table border=\"1\" class=\"dataframe\">\n",
              "  <thead>\n",
              "    <tr style=\"text-align: right;\">\n",
              "      <th></th>\n",
              "      <th>Rating</th>\n",
              "      <th>Reviews</th>\n",
              "      <th>review_clean</th>\n",
              "    </tr>\n",
              "  </thead>\n",
              "  <tbody>\n",
              "    <tr>\n",
              "      <th>2079998</th>\n",
              "      <td>0</td>\n",
              "      <td>Expensive Junk . This product consists of a pi...</td>\n",
              "      <td>expensive junk product consists piece thin fle...</td>\n",
              "    </tr>\n",
              "    <tr>\n",
              "      <th>1443106</th>\n",
              "      <td>0</td>\n",
              "      <td>Toast too dark . Even on the lowest setting, t...</td>\n",
              "      <td>toast dark even lowest setting toast dark liki...</td>\n",
              "    </tr>\n",
              "    <tr>\n",
              "      <th>3463669</th>\n",
              "      <td>1</td>\n",
              "      <td>Excellent imagery...dumbed down story . I enjo...</td>\n",
              "      <td>excellent imagery...dumbed story enjoyed disc ...</td>\n",
              "    </tr>\n",
              "    <tr>\n",
              "      <th>2914699</th>\n",
              "      <td>0</td>\n",
              "      <td>Are we pretending everyone is married? . The a...</td>\n",
              "      <td>pretending everyone married author pretend par...</td>\n",
              "    </tr>\n",
              "    <tr>\n",
              "      <th>1603231</th>\n",
              "      <td>0</td>\n",
              "      <td>Not worth your time . Might as well just use a...</td>\n",
              "      <td>not worth time might well use knife product ho...</td>\n",
              "    </tr>\n",
              "  </tbody>\n",
              "</table>\n",
              "</div>\n",
              "      <button class=\"colab-df-convert\" onclick=\"convertToInteractive('df-fd3e888a-9c7a-4a4b-91d7-1af7c70a6f44')\"\n",
              "              title=\"Convert this dataframe to an interactive table.\"\n",
              "              style=\"display:none;\">\n",
              "        \n",
              "  <svg xmlns=\"http://www.w3.org/2000/svg\" height=\"24px\"viewBox=\"0 0 24 24\"\n",
              "       width=\"24px\">\n",
              "    <path d=\"M0 0h24v24H0V0z\" fill=\"none\"/>\n",
              "    <path d=\"M18.56 5.44l.94 2.06.94-2.06 2.06-.94-2.06-.94-.94-2.06-.94 2.06-2.06.94zm-11 1L8.5 8.5l.94-2.06 2.06-.94-2.06-.94L8.5 2.5l-.94 2.06-2.06.94zm10 10l.94 2.06.94-2.06 2.06-.94-2.06-.94-.94-2.06-.94 2.06-2.06.94z\"/><path d=\"M17.41 7.96l-1.37-1.37c-.4-.4-.92-.59-1.43-.59-.52 0-1.04.2-1.43.59L10.3 9.45l-7.72 7.72c-.78.78-.78 2.05 0 2.83L4 21.41c.39.39.9.59 1.41.59.51 0 1.02-.2 1.41-.59l7.78-7.78 2.81-2.81c.8-.78.8-2.07 0-2.86zM5.41 20L4 18.59l7.72-7.72 1.47 1.35L5.41 20z\"/>\n",
              "  </svg>\n",
              "      </button>\n",
              "      \n",
              "  <style>\n",
              "    .colab-df-container {\n",
              "      display:flex;\n",
              "      flex-wrap:wrap;\n",
              "      gap: 12px;\n",
              "    }\n",
              "\n",
              "    .colab-df-convert {\n",
              "      background-color: #E8F0FE;\n",
              "      border: none;\n",
              "      border-radius: 50%;\n",
              "      cursor: pointer;\n",
              "      display: none;\n",
              "      fill: #1967D2;\n",
              "      height: 32px;\n",
              "      padding: 0 0 0 0;\n",
              "      width: 32px;\n",
              "    }\n",
              "\n",
              "    .colab-df-convert:hover {\n",
              "      background-color: #E2EBFA;\n",
              "      box-shadow: 0px 1px 2px rgba(60, 64, 67, 0.3), 0px 1px 3px 1px rgba(60, 64, 67, 0.15);\n",
              "      fill: #174EA6;\n",
              "    }\n",
              "\n",
              "    [theme=dark] .colab-df-convert {\n",
              "      background-color: #3B4455;\n",
              "      fill: #D2E3FC;\n",
              "    }\n",
              "\n",
              "    [theme=dark] .colab-df-convert:hover {\n",
              "      background-color: #434B5C;\n",
              "      box-shadow: 0px 1px 3px 1px rgba(0, 0, 0, 0.15);\n",
              "      filter: drop-shadow(0px 1px 2px rgba(0, 0, 0, 0.3));\n",
              "      fill: #FFFFFF;\n",
              "    }\n",
              "  </style>\n",
              "\n",
              "      <script>\n",
              "        const buttonEl =\n",
              "          document.querySelector('#df-fd3e888a-9c7a-4a4b-91d7-1af7c70a6f44 button.colab-df-convert');\n",
              "        buttonEl.style.display =\n",
              "          google.colab.kernel.accessAllowed ? 'block' : 'none';\n",
              "\n",
              "        async function convertToInteractive(key) {\n",
              "          const element = document.querySelector('#df-fd3e888a-9c7a-4a4b-91d7-1af7c70a6f44');\n",
              "          const dataTable =\n",
              "            await google.colab.kernel.invokeFunction('convertToInteractive',\n",
              "                                                     [key], {});\n",
              "          if (!dataTable) return;\n",
              "\n",
              "          const docLinkHtml = 'Like what you see? Visit the ' +\n",
              "            '<a target=\"_blank\" href=https://colab.research.google.com/notebooks/data_table.ipynb>data table notebook</a>'\n",
              "            + ' to learn more about interactive tables.';\n",
              "          element.innerHTML = '';\n",
              "          dataTable['output_type'] = 'display_data';\n",
              "          await google.colab.output.renderOutput(dataTable, element);\n",
              "          const docLink = document.createElement('div');\n",
              "          docLink.innerHTML = docLinkHtml;\n",
              "          element.appendChild(docLink);\n",
              "        }\n",
              "      </script>\n",
              "    </div>\n",
              "  </div>\n",
              "  "
            ]
          },
          "metadata": {},
          "execution_count": 10
        }
      ],
      "source": [
        "def clean_text(text):\n",
        "    # lower text\n",
        "    text = text.lower()\n",
        "    # remove puncutation\n",
        "    text = [word.strip(string.punctuation) for word in text.split(\" \")]\n",
        "    # remove words that contain numbers\n",
        "    text = [word for word in text if not any(c.isdigit() for c in word)]\n",
        "    # remove stop words\n",
        "    stop = stopwords.words('english')\n",
        "    stop = [w for w in stop if w not in ['not', 'no']]\n",
        "    text = [x for x in text if (x not in stop)]\n",
        "    # remove empty tokens\n",
        "    text = [t for t in text if len(t) > 0]\n",
        "    # remove words with only one letter\n",
        "    text = [t for t in text if len(t) > 1]\n",
        "    # lemmatization\n",
        "    lemmatizer = WordNetLemmatizer()\n",
        "    text = [lemmatizer.lemmatize(t) for t in text]\n",
        "    # join all\n",
        "    text = \" \".join(text)\n",
        "    return(text)\n",
        "\n",
        "# clean text data\n",
        "df['review_clean'] = df['Reviews'].apply(lambda x: clean_text(x))\n",
        "df.head()"
      ]
    },
    {
      "cell_type": "code",
      "execution_count": null,
      "metadata": {
        "colab": {
          "base_uri": "https://localhost:8080/"
        },
        "id": "HJ7jhcv2yo-h",
        "outputId": "2bcd33a9-2458-4b1f-b98c-be5e3517e9ba"
      },
      "outputs": [
        {
          "output_type": "stream",
          "name": "stderr",
          "text": [
            "[nltk_data] Downloading package vader_lexicon to /root/nltk_data...\n"
          ]
        }
      ],
      "source": [
        "nltk.download('vader_lexicon')\n",
        "from nltk.sentiment.vader import SentimentIntensityAnalyzer"
      ]
    },
    {
      "cell_type": "code",
      "execution_count": null,
      "metadata": {
        "colab": {
          "base_uri": "https://localhost:8080/",
          "height": 424
        },
        "id": "C6VxKNLvzHK6",
        "outputId": "d15eb1eb-2b8d-4158-a257-87fb286fe2a7"
      },
      "outputs": [
        {
          "output_type": "execute_result",
          "data": {
            "text/plain": [
              "         Rating                                            Reviews  \\\n",
              "2079998       0  Expensive Junk . This product consists of a pi...   \n",
              "1443106       0  Toast too dark . Even on the lowest setting, t...   \n",
              "3463669       1  Excellent imagery...dumbed down story . I enjo...   \n",
              "2914699       0  Are we pretending everyone is married? . The a...   \n",
              "1603231       0  Not worth your time . Might as well just use a...   \n",
              "\n",
              "                                              review_clean    neg    neu  \\\n",
              "2079998  expensive junk product consists piece thin fle...  0.000  0.854   \n",
              "1443106  toast dark even lowest setting toast dark liki...  0.170  0.769   \n",
              "3463669  excellent imagery...dumbed story enjoyed disc ...  0.058  0.613   \n",
              "2914699  pretending everyone married author pretend par...  0.112  0.761   \n",
              "1603231  not worth time might well use knife product ho...  0.175  0.743   \n",
              "\n",
              "           pos  compound  \n",
              "2079998  0.146    0.9041  \n",
              "1443106  0.061   -0.5859  \n",
              "3463669  0.330    0.9686  \n",
              "2914699  0.127    0.0377  \n",
              "1603231  0.082   -0.3326  "
            ],
            "text/html": [
              "\n",
              "  <div id=\"df-9b5bd735-f01f-4eb1-aa30-0b44855c8430\">\n",
              "    <div class=\"colab-df-container\">\n",
              "      <div>\n",
              "<style scoped>\n",
              "    .dataframe tbody tr th:only-of-type {\n",
              "        vertical-align: middle;\n",
              "    }\n",
              "\n",
              "    .dataframe tbody tr th {\n",
              "        vertical-align: top;\n",
              "    }\n",
              "\n",
              "    .dataframe thead th {\n",
              "        text-align: right;\n",
              "    }\n",
              "</style>\n",
              "<table border=\"1\" class=\"dataframe\">\n",
              "  <thead>\n",
              "    <tr style=\"text-align: right;\">\n",
              "      <th></th>\n",
              "      <th>Rating</th>\n",
              "      <th>Reviews</th>\n",
              "      <th>review_clean</th>\n",
              "      <th>neg</th>\n",
              "      <th>neu</th>\n",
              "      <th>pos</th>\n",
              "      <th>compound</th>\n",
              "    </tr>\n",
              "  </thead>\n",
              "  <tbody>\n",
              "    <tr>\n",
              "      <th>2079998</th>\n",
              "      <td>0</td>\n",
              "      <td>Expensive Junk . This product consists of a pi...</td>\n",
              "      <td>expensive junk product consists piece thin fle...</td>\n",
              "      <td>0.000</td>\n",
              "      <td>0.854</td>\n",
              "      <td>0.146</td>\n",
              "      <td>0.9041</td>\n",
              "    </tr>\n",
              "    <tr>\n",
              "      <th>1443106</th>\n",
              "      <td>0</td>\n",
              "      <td>Toast too dark . Even on the lowest setting, t...</td>\n",
              "      <td>toast dark even lowest setting toast dark liki...</td>\n",
              "      <td>0.170</td>\n",
              "      <td>0.769</td>\n",
              "      <td>0.061</td>\n",
              "      <td>-0.5859</td>\n",
              "    </tr>\n",
              "    <tr>\n",
              "      <th>3463669</th>\n",
              "      <td>1</td>\n",
              "      <td>Excellent imagery...dumbed down story . I enjo...</td>\n",
              "      <td>excellent imagery...dumbed story enjoyed disc ...</td>\n",
              "      <td>0.058</td>\n",
              "      <td>0.613</td>\n",
              "      <td>0.330</td>\n",
              "      <td>0.9686</td>\n",
              "    </tr>\n",
              "    <tr>\n",
              "      <th>2914699</th>\n",
              "      <td>0</td>\n",
              "      <td>Are we pretending everyone is married? . The a...</td>\n",
              "      <td>pretending everyone married author pretend par...</td>\n",
              "      <td>0.112</td>\n",
              "      <td>0.761</td>\n",
              "      <td>0.127</td>\n",
              "      <td>0.0377</td>\n",
              "    </tr>\n",
              "    <tr>\n",
              "      <th>1603231</th>\n",
              "      <td>0</td>\n",
              "      <td>Not worth your time . Might as well just use a...</td>\n",
              "      <td>not worth time might well use knife product ho...</td>\n",
              "      <td>0.175</td>\n",
              "      <td>0.743</td>\n",
              "      <td>0.082</td>\n",
              "      <td>-0.3326</td>\n",
              "    </tr>\n",
              "  </tbody>\n",
              "</table>\n",
              "</div>\n",
              "      <button class=\"colab-df-convert\" onclick=\"convertToInteractive('df-9b5bd735-f01f-4eb1-aa30-0b44855c8430')\"\n",
              "              title=\"Convert this dataframe to an interactive table.\"\n",
              "              style=\"display:none;\">\n",
              "        \n",
              "  <svg xmlns=\"http://www.w3.org/2000/svg\" height=\"24px\"viewBox=\"0 0 24 24\"\n",
              "       width=\"24px\">\n",
              "    <path d=\"M0 0h24v24H0V0z\" fill=\"none\"/>\n",
              "    <path d=\"M18.56 5.44l.94 2.06.94-2.06 2.06-.94-2.06-.94-.94-2.06-.94 2.06-2.06.94zm-11 1L8.5 8.5l.94-2.06 2.06-.94-2.06-.94L8.5 2.5l-.94 2.06-2.06.94zm10 10l.94 2.06.94-2.06 2.06-.94-2.06-.94-.94-2.06-.94 2.06-2.06.94z\"/><path d=\"M17.41 7.96l-1.37-1.37c-.4-.4-.92-.59-1.43-.59-.52 0-1.04.2-1.43.59L10.3 9.45l-7.72 7.72c-.78.78-.78 2.05 0 2.83L4 21.41c.39.39.9.59 1.41.59.51 0 1.02-.2 1.41-.59l7.78-7.78 2.81-2.81c.8-.78.8-2.07 0-2.86zM5.41 20L4 18.59l7.72-7.72 1.47 1.35L5.41 20z\"/>\n",
              "  </svg>\n",
              "      </button>\n",
              "      \n",
              "  <style>\n",
              "    .colab-df-container {\n",
              "      display:flex;\n",
              "      flex-wrap:wrap;\n",
              "      gap: 12px;\n",
              "    }\n",
              "\n",
              "    .colab-df-convert {\n",
              "      background-color: #E8F0FE;\n",
              "      border: none;\n",
              "      border-radius: 50%;\n",
              "      cursor: pointer;\n",
              "      display: none;\n",
              "      fill: #1967D2;\n",
              "      height: 32px;\n",
              "      padding: 0 0 0 0;\n",
              "      width: 32px;\n",
              "    }\n",
              "\n",
              "    .colab-df-convert:hover {\n",
              "      background-color: #E2EBFA;\n",
              "      box-shadow: 0px 1px 2px rgba(60, 64, 67, 0.3), 0px 1px 3px 1px rgba(60, 64, 67, 0.15);\n",
              "      fill: #174EA6;\n",
              "    }\n",
              "\n",
              "    [theme=dark] .colab-df-convert {\n",
              "      background-color: #3B4455;\n",
              "      fill: #D2E3FC;\n",
              "    }\n",
              "\n",
              "    [theme=dark] .colab-df-convert:hover {\n",
              "      background-color: #434B5C;\n",
              "      box-shadow: 0px 1px 3px 1px rgba(0, 0, 0, 0.15);\n",
              "      filter: drop-shadow(0px 1px 2px rgba(0, 0, 0, 0.3));\n",
              "      fill: #FFFFFF;\n",
              "    }\n",
              "  </style>\n",
              "\n",
              "      <script>\n",
              "        const buttonEl =\n",
              "          document.querySelector('#df-9b5bd735-f01f-4eb1-aa30-0b44855c8430 button.colab-df-convert');\n",
              "        buttonEl.style.display =\n",
              "          google.colab.kernel.accessAllowed ? 'block' : 'none';\n",
              "\n",
              "        async function convertToInteractive(key) {\n",
              "          const element = document.querySelector('#df-9b5bd735-f01f-4eb1-aa30-0b44855c8430');\n",
              "          const dataTable =\n",
              "            await google.colab.kernel.invokeFunction('convertToInteractive',\n",
              "                                                     [key], {});\n",
              "          if (!dataTable) return;\n",
              "\n",
              "          const docLinkHtml = 'Like what you see? Visit the ' +\n",
              "            '<a target=\"_blank\" href=https://colab.research.google.com/notebooks/data_table.ipynb>data table notebook</a>'\n",
              "            + ' to learn more about interactive tables.';\n",
              "          element.innerHTML = '';\n",
              "          dataTable['output_type'] = 'display_data';\n",
              "          await google.colab.output.renderOutput(dataTable, element);\n",
              "          const docLink = document.createElement('div');\n",
              "          docLink.innerHTML = docLinkHtml;\n",
              "          element.appendChild(docLink);\n",
              "        }\n",
              "      </script>\n",
              "    </div>\n",
              "  </div>\n",
              "  "
            ]
          },
          "metadata": {},
          "execution_count": 12
        }
      ],
      "source": [
        "# Initialize the SentimentIntensityAnalyzer object\n",
        "sid = SentimentIntensityAnalyzer()\n",
        "\n",
        "# Apply sentiment analysis using VADER on the cleaned reviews\n",
        "df[\"sentiments\"] = df[\"Reviews\"].apply(lambda x: sid.polarity_scores(x))\n",
        "\n",
        "# Concatenate 'Sentiment' column into separate columns\n",
        "df = pd.concat([df.drop(['sentiments'], axis=1), df['sentiments'].apply(pd.Series)], axis=1)\n",
        "df.head()"
      ]
    },
    {
      "cell_type": "code",
      "execution_count": null,
      "metadata": {
        "id": "J6Djh456wQ-T"
      },
      "outputs": [],
      "source": [
        "# add number of characters column\n",
        "df[\"nb_chars\"] = df[\"Reviews\"].apply(lambda x: len(x))"
      ]
    },
    {
      "cell_type": "code",
      "execution_count": null,
      "metadata": {
        "id": "o_3zrW8qzeIB"
      },
      "outputs": [],
      "source": [
        "# add number of words column\n",
        "df[\"nb_words\"] = df[\"Reviews\"].apply(lambda x: len(x.split(\" \")))"
      ]
    },
    {
      "cell_type": "code",
      "execution_count": null,
      "metadata": {
        "colab": {
          "base_uri": "https://localhost:8080/",
          "height": 513
        },
        "id": "068pVDVMwZZT",
        "outputId": "f0f4b435-e850-44f6-c7de-637c74664d86"
      },
      "outputs": [
        {
          "output_type": "execute_result",
          "data": {
            "text/plain": [
              "         Rating                                            Reviews  \\\n",
              "2079998       0  Expensive Junk . This product consists of a pi...   \n",
              "1443106       0  Toast too dark . Even on the lowest setting, t...   \n",
              "3463669       1  Excellent imagery...dumbed down story . I enjo...   \n",
              "2914699       0  Are we pretending everyone is married? . The a...   \n",
              "1603231       0  Not worth your time . Might as well just use a...   \n",
              "\n",
              "                                              review_clean    neg    neu  \\\n",
              "2079998  expensive junk product consists piece thin fle...  0.000  0.854   \n",
              "1443106  toast dark even lowest setting toast dark liki...  0.170  0.769   \n",
              "3463669  excellent imagery...dumbed story enjoyed disc ...  0.058  0.613   \n",
              "2914699  pretending everyone married author pretend par...  0.112  0.761   \n",
              "1603231  not worth time might well use knife product ho...  0.175  0.743   \n",
              "\n",
              "           pos  compound  nb_chars  nb_words  \n",
              "2079998  0.146    0.9041       624       102  \n",
              "1443106  0.061   -0.5859       208        40  \n",
              "3463669  0.330    0.9686       411        71  \n",
              "2914699  0.127    0.0377       383        66  \n",
              "1603231  0.082   -0.3326       125        26  "
            ],
            "text/html": [
              "\n",
              "  <div id=\"df-c539ebfd-22c0-4902-8d91-c25f3c47df04\">\n",
              "    <div class=\"colab-df-container\">\n",
              "      <div>\n",
              "<style scoped>\n",
              "    .dataframe tbody tr th:only-of-type {\n",
              "        vertical-align: middle;\n",
              "    }\n",
              "\n",
              "    .dataframe tbody tr th {\n",
              "        vertical-align: top;\n",
              "    }\n",
              "\n",
              "    .dataframe thead th {\n",
              "        text-align: right;\n",
              "    }\n",
              "</style>\n",
              "<table border=\"1\" class=\"dataframe\">\n",
              "  <thead>\n",
              "    <tr style=\"text-align: right;\">\n",
              "      <th></th>\n",
              "      <th>Rating</th>\n",
              "      <th>Reviews</th>\n",
              "      <th>review_clean</th>\n",
              "      <th>neg</th>\n",
              "      <th>neu</th>\n",
              "      <th>pos</th>\n",
              "      <th>compound</th>\n",
              "      <th>nb_chars</th>\n",
              "      <th>nb_words</th>\n",
              "    </tr>\n",
              "  </thead>\n",
              "  <tbody>\n",
              "    <tr>\n",
              "      <th>2079998</th>\n",
              "      <td>0</td>\n",
              "      <td>Expensive Junk . This product consists of a pi...</td>\n",
              "      <td>expensive junk product consists piece thin fle...</td>\n",
              "      <td>0.000</td>\n",
              "      <td>0.854</td>\n",
              "      <td>0.146</td>\n",
              "      <td>0.9041</td>\n",
              "      <td>624</td>\n",
              "      <td>102</td>\n",
              "    </tr>\n",
              "    <tr>\n",
              "      <th>1443106</th>\n",
              "      <td>0</td>\n",
              "      <td>Toast too dark . Even on the lowest setting, t...</td>\n",
              "      <td>toast dark even lowest setting toast dark liki...</td>\n",
              "      <td>0.170</td>\n",
              "      <td>0.769</td>\n",
              "      <td>0.061</td>\n",
              "      <td>-0.5859</td>\n",
              "      <td>208</td>\n",
              "      <td>40</td>\n",
              "    </tr>\n",
              "    <tr>\n",
              "      <th>3463669</th>\n",
              "      <td>1</td>\n",
              "      <td>Excellent imagery...dumbed down story . I enjo...</td>\n",
              "      <td>excellent imagery...dumbed story enjoyed disc ...</td>\n",
              "      <td>0.058</td>\n",
              "      <td>0.613</td>\n",
              "      <td>0.330</td>\n",
              "      <td>0.9686</td>\n",
              "      <td>411</td>\n",
              "      <td>71</td>\n",
              "    </tr>\n",
              "    <tr>\n",
              "      <th>2914699</th>\n",
              "      <td>0</td>\n",
              "      <td>Are we pretending everyone is married? . The a...</td>\n",
              "      <td>pretending everyone married author pretend par...</td>\n",
              "      <td>0.112</td>\n",
              "      <td>0.761</td>\n",
              "      <td>0.127</td>\n",
              "      <td>0.0377</td>\n",
              "      <td>383</td>\n",
              "      <td>66</td>\n",
              "    </tr>\n",
              "    <tr>\n",
              "      <th>1603231</th>\n",
              "      <td>0</td>\n",
              "      <td>Not worth your time . Might as well just use a...</td>\n",
              "      <td>not worth time might well use knife product ho...</td>\n",
              "      <td>0.175</td>\n",
              "      <td>0.743</td>\n",
              "      <td>0.082</td>\n",
              "      <td>-0.3326</td>\n",
              "      <td>125</td>\n",
              "      <td>26</td>\n",
              "    </tr>\n",
              "  </tbody>\n",
              "</table>\n",
              "</div>\n",
              "      <button class=\"colab-df-convert\" onclick=\"convertToInteractive('df-c539ebfd-22c0-4902-8d91-c25f3c47df04')\"\n",
              "              title=\"Convert this dataframe to an interactive table.\"\n",
              "              style=\"display:none;\">\n",
              "        \n",
              "  <svg xmlns=\"http://www.w3.org/2000/svg\" height=\"24px\"viewBox=\"0 0 24 24\"\n",
              "       width=\"24px\">\n",
              "    <path d=\"M0 0h24v24H0V0z\" fill=\"none\"/>\n",
              "    <path d=\"M18.56 5.44l.94 2.06.94-2.06 2.06-.94-2.06-.94-.94-2.06-.94 2.06-2.06.94zm-11 1L8.5 8.5l.94-2.06 2.06-.94-2.06-.94L8.5 2.5l-.94 2.06-2.06.94zm10 10l.94 2.06.94-2.06 2.06-.94-2.06-.94-.94-2.06-.94 2.06-2.06.94z\"/><path d=\"M17.41 7.96l-1.37-1.37c-.4-.4-.92-.59-1.43-.59-.52 0-1.04.2-1.43.59L10.3 9.45l-7.72 7.72c-.78.78-.78 2.05 0 2.83L4 21.41c.39.39.9.59 1.41.59.51 0 1.02-.2 1.41-.59l7.78-7.78 2.81-2.81c.8-.78.8-2.07 0-2.86zM5.41 20L4 18.59l7.72-7.72 1.47 1.35L5.41 20z\"/>\n",
              "  </svg>\n",
              "      </button>\n",
              "      \n",
              "  <style>\n",
              "    .colab-df-container {\n",
              "      display:flex;\n",
              "      flex-wrap:wrap;\n",
              "      gap: 12px;\n",
              "    }\n",
              "\n",
              "    .colab-df-convert {\n",
              "      background-color: #E8F0FE;\n",
              "      border: none;\n",
              "      border-radius: 50%;\n",
              "      cursor: pointer;\n",
              "      display: none;\n",
              "      fill: #1967D2;\n",
              "      height: 32px;\n",
              "      padding: 0 0 0 0;\n",
              "      width: 32px;\n",
              "    }\n",
              "\n",
              "    .colab-df-convert:hover {\n",
              "      background-color: #E2EBFA;\n",
              "      box-shadow: 0px 1px 2px rgba(60, 64, 67, 0.3), 0px 1px 3px 1px rgba(60, 64, 67, 0.15);\n",
              "      fill: #174EA6;\n",
              "    }\n",
              "\n",
              "    [theme=dark] .colab-df-convert {\n",
              "      background-color: #3B4455;\n",
              "      fill: #D2E3FC;\n",
              "    }\n",
              "\n",
              "    [theme=dark] .colab-df-convert:hover {\n",
              "      background-color: #434B5C;\n",
              "      box-shadow: 0px 1px 3px 1px rgba(0, 0, 0, 0.15);\n",
              "      filter: drop-shadow(0px 1px 2px rgba(0, 0, 0, 0.3));\n",
              "      fill: #FFFFFF;\n",
              "    }\n",
              "  </style>\n",
              "\n",
              "      <script>\n",
              "        const buttonEl =\n",
              "          document.querySelector('#df-c539ebfd-22c0-4902-8d91-c25f3c47df04 button.colab-df-convert');\n",
              "        buttonEl.style.display =\n",
              "          google.colab.kernel.accessAllowed ? 'block' : 'none';\n",
              "\n",
              "        async function convertToInteractive(key) {\n",
              "          const element = document.querySelector('#df-c539ebfd-22c0-4902-8d91-c25f3c47df04');\n",
              "          const dataTable =\n",
              "            await google.colab.kernel.invokeFunction('convertToInteractive',\n",
              "                                                     [key], {});\n",
              "          if (!dataTable) return;\n",
              "\n",
              "          const docLinkHtml = 'Like what you see? Visit the ' +\n",
              "            '<a target=\"_blank\" href=https://colab.research.google.com/notebooks/data_table.ipynb>data table notebook</a>'\n",
              "            + ' to learn more about interactive tables.';\n",
              "          element.innerHTML = '';\n",
              "          dataTable['output_type'] = 'display_data';\n",
              "          await google.colab.output.renderOutput(dataTable, element);\n",
              "          const docLink = document.createElement('div');\n",
              "          docLink.innerHTML = docLinkHtml;\n",
              "          element.appendChild(docLink);\n",
              "        }\n",
              "      </script>\n",
              "    </div>\n",
              "  </div>\n",
              "  "
            ]
          },
          "metadata": {},
          "execution_count": 15
        }
      ],
      "source": [
        "df.head()"
      ]
    },
    {
      "cell_type": "code",
      "execution_count": null,
      "metadata": {
        "id": "tMfDTtAQx3Bh"
      },
      "outputs": [],
      "source": [
        "from sklearn.feature_extraction.text import TfidfVectorizer, CountVectorizer"
      ]
    },
    {
      "cell_type": "code",
      "execution_count": null,
      "metadata": {
        "id": "BC7f-lCOx69i"
      },
      "outputs": [],
      "source": [
        "# add tf-idfs columns\n",
        "tfidf = TfidfVectorizer(min_df=10)\n",
        "tfidf_result = tfidf.fit_transform(df[\"review_clean\"]).toarray()\n",
        "tfidf_df = pd.DataFrame(tfidf_result, columns=tfidf.get_feature_names_out())\n",
        "tfidf_df.columns = [\"word_\" + str(x) for x in tfidf_df.columns]\n",
        "tfidf_df.index = df.index\n",
        "df = pd.concat([df, tfidf_df], axis=1)"
      ]
    },
    {
      "cell_type": "code",
      "execution_count": null,
      "metadata": {
        "colab": {
          "base_uri": "https://localhost:8080/",
          "height": 542
        },
        "id": "TE9L4S1xylBf",
        "outputId": "077b468f-907d-4c2e-a33e-1e8c18e8d528"
      },
      "outputs": [
        {
          "output_type": "execute_result",
          "data": {
            "text/plain": [
              "         Rating                                            Reviews  \\\n",
              "2079998       0  Expensive Junk . This product consists of a pi...   \n",
              "1443106       0  Toast too dark . Even on the lowest setting, t...   \n",
              "3463669       1  Excellent imagery...dumbed down story . I enjo...   \n",
              "2914699       0  Are we pretending everyone is married? . The a...   \n",
              "1603231       0  Not worth your time . Might as well just use a...   \n",
              "\n",
              "                                              review_clean    neg    neu  \\\n",
              "2079998  expensive junk product consists piece thin fle...  0.000  0.854   \n",
              "1443106  toast dark even lowest setting toast dark liki...  0.170  0.769   \n",
              "3463669  excellent imagery...dumbed story enjoyed disc ...  0.058  0.613   \n",
              "2914699  pretending everyone married author pretend par...  0.112  0.761   \n",
              "1603231  not worth time might well use knife product ho...  0.175  0.743   \n",
              "\n",
              "           pos  compound  nb_chars  nb_words  word_aa  ...  word_young  \\\n",
              "2079998  0.146    0.9041       624       102      0.0  ...         0.0   \n",
              "1443106  0.061   -0.5859       208        40      0.0  ...         0.0   \n",
              "3463669  0.330    0.9686       411        71      0.0  ...         0.0   \n",
              "2914699  0.127    0.0377       383        66      0.0  ...         0.0   \n",
              "1603231  0.082   -0.3326       125        26      0.0  ...         0.0   \n",
              "\n",
              "         word_younger  word_your  word_youtube  word_yr  word_zero  \\\n",
              "2079998           0.0        0.0           0.0      0.0        0.0   \n",
              "1443106           0.0        0.0           0.0      0.0        0.0   \n",
              "3463669           0.0        0.0           0.0      0.0        0.0   \n",
              "2914699           0.0        0.0           0.0      0.0        0.0   \n",
              "1603231           0.0        0.0           0.0      0.0        0.0   \n",
              "\n",
              "         word_zipper  word_zombie  word_zone  word_zoom  \n",
              "2079998          0.0          0.0        0.0        0.0  \n",
              "1443106          0.0          0.0        0.0        0.0  \n",
              "3463669          0.0          0.0        0.0        0.0  \n",
              "2914699          0.0          0.0        0.0        0.0  \n",
              "1603231          0.0          0.0        0.0        0.0  \n",
              "\n",
              "[5 rows x 4178 columns]"
            ],
            "text/html": [
              "\n",
              "  <div id=\"df-4f212d93-b248-4dc7-82f9-e7aa8ec915b8\">\n",
              "    <div class=\"colab-df-container\">\n",
              "      <div>\n",
              "<style scoped>\n",
              "    .dataframe tbody tr th:only-of-type {\n",
              "        vertical-align: middle;\n",
              "    }\n",
              "\n",
              "    .dataframe tbody tr th {\n",
              "        vertical-align: top;\n",
              "    }\n",
              "\n",
              "    .dataframe thead th {\n",
              "        text-align: right;\n",
              "    }\n",
              "</style>\n",
              "<table border=\"1\" class=\"dataframe\">\n",
              "  <thead>\n",
              "    <tr style=\"text-align: right;\">\n",
              "      <th></th>\n",
              "      <th>Rating</th>\n",
              "      <th>Reviews</th>\n",
              "      <th>review_clean</th>\n",
              "      <th>neg</th>\n",
              "      <th>neu</th>\n",
              "      <th>pos</th>\n",
              "      <th>compound</th>\n",
              "      <th>nb_chars</th>\n",
              "      <th>nb_words</th>\n",
              "      <th>word_aa</th>\n",
              "      <th>...</th>\n",
              "      <th>word_young</th>\n",
              "      <th>word_younger</th>\n",
              "      <th>word_your</th>\n",
              "      <th>word_youtube</th>\n",
              "      <th>word_yr</th>\n",
              "      <th>word_zero</th>\n",
              "      <th>word_zipper</th>\n",
              "      <th>word_zombie</th>\n",
              "      <th>word_zone</th>\n",
              "      <th>word_zoom</th>\n",
              "    </tr>\n",
              "  </thead>\n",
              "  <tbody>\n",
              "    <tr>\n",
              "      <th>2079998</th>\n",
              "      <td>0</td>\n",
              "      <td>Expensive Junk . This product consists of a pi...</td>\n",
              "      <td>expensive junk product consists piece thin fle...</td>\n",
              "      <td>0.000</td>\n",
              "      <td>0.854</td>\n",
              "      <td>0.146</td>\n",
              "      <td>0.9041</td>\n",
              "      <td>624</td>\n",
              "      <td>102</td>\n",
              "      <td>0.0</td>\n",
              "      <td>...</td>\n",
              "      <td>0.0</td>\n",
              "      <td>0.0</td>\n",
              "      <td>0.0</td>\n",
              "      <td>0.0</td>\n",
              "      <td>0.0</td>\n",
              "      <td>0.0</td>\n",
              "      <td>0.0</td>\n",
              "      <td>0.0</td>\n",
              "      <td>0.0</td>\n",
              "      <td>0.0</td>\n",
              "    </tr>\n",
              "    <tr>\n",
              "      <th>1443106</th>\n",
              "      <td>0</td>\n",
              "      <td>Toast too dark . Even on the lowest setting, t...</td>\n",
              "      <td>toast dark even lowest setting toast dark liki...</td>\n",
              "      <td>0.170</td>\n",
              "      <td>0.769</td>\n",
              "      <td>0.061</td>\n",
              "      <td>-0.5859</td>\n",
              "      <td>208</td>\n",
              "      <td>40</td>\n",
              "      <td>0.0</td>\n",
              "      <td>...</td>\n",
              "      <td>0.0</td>\n",
              "      <td>0.0</td>\n",
              "      <td>0.0</td>\n",
              "      <td>0.0</td>\n",
              "      <td>0.0</td>\n",
              "      <td>0.0</td>\n",
              "      <td>0.0</td>\n",
              "      <td>0.0</td>\n",
              "      <td>0.0</td>\n",
              "      <td>0.0</td>\n",
              "    </tr>\n",
              "    <tr>\n",
              "      <th>3463669</th>\n",
              "      <td>1</td>\n",
              "      <td>Excellent imagery...dumbed down story . I enjo...</td>\n",
              "      <td>excellent imagery...dumbed story enjoyed disc ...</td>\n",
              "      <td>0.058</td>\n",
              "      <td>0.613</td>\n",
              "      <td>0.330</td>\n",
              "      <td>0.9686</td>\n",
              "      <td>411</td>\n",
              "      <td>71</td>\n",
              "      <td>0.0</td>\n",
              "      <td>...</td>\n",
              "      <td>0.0</td>\n",
              "      <td>0.0</td>\n",
              "      <td>0.0</td>\n",
              "      <td>0.0</td>\n",
              "      <td>0.0</td>\n",
              "      <td>0.0</td>\n",
              "      <td>0.0</td>\n",
              "      <td>0.0</td>\n",
              "      <td>0.0</td>\n",
              "      <td>0.0</td>\n",
              "    </tr>\n",
              "    <tr>\n",
              "      <th>2914699</th>\n",
              "      <td>0</td>\n",
              "      <td>Are we pretending everyone is married? . The a...</td>\n",
              "      <td>pretending everyone married author pretend par...</td>\n",
              "      <td>0.112</td>\n",
              "      <td>0.761</td>\n",
              "      <td>0.127</td>\n",
              "      <td>0.0377</td>\n",
              "      <td>383</td>\n",
              "      <td>66</td>\n",
              "      <td>0.0</td>\n",
              "      <td>...</td>\n",
              "      <td>0.0</td>\n",
              "      <td>0.0</td>\n",
              "      <td>0.0</td>\n",
              "      <td>0.0</td>\n",
              "      <td>0.0</td>\n",
              "      <td>0.0</td>\n",
              "      <td>0.0</td>\n",
              "      <td>0.0</td>\n",
              "      <td>0.0</td>\n",
              "      <td>0.0</td>\n",
              "    </tr>\n",
              "    <tr>\n",
              "      <th>1603231</th>\n",
              "      <td>0</td>\n",
              "      <td>Not worth your time . Might as well just use a...</td>\n",
              "      <td>not worth time might well use knife product ho...</td>\n",
              "      <td>0.175</td>\n",
              "      <td>0.743</td>\n",
              "      <td>0.082</td>\n",
              "      <td>-0.3326</td>\n",
              "      <td>125</td>\n",
              "      <td>26</td>\n",
              "      <td>0.0</td>\n",
              "      <td>...</td>\n",
              "      <td>0.0</td>\n",
              "      <td>0.0</td>\n",
              "      <td>0.0</td>\n",
              "      <td>0.0</td>\n",
              "      <td>0.0</td>\n",
              "      <td>0.0</td>\n",
              "      <td>0.0</td>\n",
              "      <td>0.0</td>\n",
              "      <td>0.0</td>\n",
              "      <td>0.0</td>\n",
              "    </tr>\n",
              "  </tbody>\n",
              "</table>\n",
              "<p>5 rows × 4178 columns</p>\n",
              "</div>\n",
              "      <button class=\"colab-df-convert\" onclick=\"convertToInteractive('df-4f212d93-b248-4dc7-82f9-e7aa8ec915b8')\"\n",
              "              title=\"Convert this dataframe to an interactive table.\"\n",
              "              style=\"display:none;\">\n",
              "        \n",
              "  <svg xmlns=\"http://www.w3.org/2000/svg\" height=\"24px\"viewBox=\"0 0 24 24\"\n",
              "       width=\"24px\">\n",
              "    <path d=\"M0 0h24v24H0V0z\" fill=\"none\"/>\n",
              "    <path d=\"M18.56 5.44l.94 2.06.94-2.06 2.06-.94-2.06-.94-.94-2.06-.94 2.06-2.06.94zm-11 1L8.5 8.5l.94-2.06 2.06-.94-2.06-.94L8.5 2.5l-.94 2.06-2.06.94zm10 10l.94 2.06.94-2.06 2.06-.94-2.06-.94-.94-2.06-.94 2.06-2.06.94z\"/><path d=\"M17.41 7.96l-1.37-1.37c-.4-.4-.92-.59-1.43-.59-.52 0-1.04.2-1.43.59L10.3 9.45l-7.72 7.72c-.78.78-.78 2.05 0 2.83L4 21.41c.39.39.9.59 1.41.59.51 0 1.02-.2 1.41-.59l7.78-7.78 2.81-2.81c.8-.78.8-2.07 0-2.86zM5.41 20L4 18.59l7.72-7.72 1.47 1.35L5.41 20z\"/>\n",
              "  </svg>\n",
              "      </button>\n",
              "      \n",
              "  <style>\n",
              "    .colab-df-container {\n",
              "      display:flex;\n",
              "      flex-wrap:wrap;\n",
              "      gap: 12px;\n",
              "    }\n",
              "\n",
              "    .colab-df-convert {\n",
              "      background-color: #E8F0FE;\n",
              "      border: none;\n",
              "      border-radius: 50%;\n",
              "      cursor: pointer;\n",
              "      display: none;\n",
              "      fill: #1967D2;\n",
              "      height: 32px;\n",
              "      padding: 0 0 0 0;\n",
              "      width: 32px;\n",
              "    }\n",
              "\n",
              "    .colab-df-convert:hover {\n",
              "      background-color: #E2EBFA;\n",
              "      box-shadow: 0px 1px 2px rgba(60, 64, 67, 0.3), 0px 1px 3px 1px rgba(60, 64, 67, 0.15);\n",
              "      fill: #174EA6;\n",
              "    }\n",
              "\n",
              "    [theme=dark] .colab-df-convert {\n",
              "      background-color: #3B4455;\n",
              "      fill: #D2E3FC;\n",
              "    }\n",
              "\n",
              "    [theme=dark] .colab-df-convert:hover {\n",
              "      background-color: #434B5C;\n",
              "      box-shadow: 0px 1px 3px 1px rgba(0, 0, 0, 0.15);\n",
              "      filter: drop-shadow(0px 1px 2px rgba(0, 0, 0, 0.3));\n",
              "      fill: #FFFFFF;\n",
              "    }\n",
              "  </style>\n",
              "\n",
              "      <script>\n",
              "        const buttonEl =\n",
              "          document.querySelector('#df-4f212d93-b248-4dc7-82f9-e7aa8ec915b8 button.colab-df-convert');\n",
              "        buttonEl.style.display =\n",
              "          google.colab.kernel.accessAllowed ? 'block' : 'none';\n",
              "\n",
              "        async function convertToInteractive(key) {\n",
              "          const element = document.querySelector('#df-4f212d93-b248-4dc7-82f9-e7aa8ec915b8');\n",
              "          const dataTable =\n",
              "            await google.colab.kernel.invokeFunction('convertToInteractive',\n",
              "                                                     [key], {});\n",
              "          if (!dataTable) return;\n",
              "\n",
              "          const docLinkHtml = 'Like what you see? Visit the ' +\n",
              "            '<a target=\"_blank\" href=https://colab.research.google.com/notebooks/data_table.ipynb>data table notebook</a>'\n",
              "            + ' to learn more about interactive tables.';\n",
              "          element.innerHTML = '';\n",
              "          dataTable['output_type'] = 'display_data';\n",
              "          await google.colab.output.renderOutput(dataTable, element);\n",
              "          const docLink = document.createElement('div');\n",
              "          docLink.innerHTML = docLinkHtml;\n",
              "          element.appendChild(docLink);\n",
              "        }\n",
              "      </script>\n",
              "    </div>\n",
              "  </div>\n",
              "  "
            ]
          },
          "metadata": {},
          "execution_count": 18
        }
      ],
      "source": [
        "df.head()"
      ]
    },
    {
      "cell_type": "markdown",
      "metadata": {
        "id": "xnDuJSp2xVwH"
      },
      "source": [
        "**Word Embeeding**"
      ]
    },
    {
      "cell_type": "code",
      "execution_count": null,
      "metadata": {
        "id": "IKcrBAWEz1IR"
      },
      "outputs": [],
      "source": [
        "from gensim.test.utils import common_texts\n",
        "from gensim.models.doc2vec import Doc2Vec, TaggedDocument"
      ]
    },
    {
      "cell_type": "code",
      "execution_count": null,
      "metadata": {
        "id": "khf2KNLpzibR"
      },
      "outputs": [],
      "source": [
        "#create doc2vec vector columns\n",
        "documents = [TaggedDocument(doc, [i]) for i, doc in enumerate(df[\"review_clean\"].apply(lambda x: x.split(\" \")))]\n",
        "\n",
        "# train a Doc2Vec model with our text data\n",
        "model = Doc2Vec(documents, vector_size=5, window=2, min_count=1, workers=4)\n"
      ]
    },
    {
      "cell_type": "code",
      "execution_count": null,
      "metadata": {
        "id": "fdbWbxPkzphB"
      },
      "outputs": [],
      "source": [
        "# transform each document into a vector data\n",
        "doc2vec_df = df[\"review_clean\"].apply(lambda x: model.infer_vector(x.split(\" \"))).apply(pd.Series)\n",
        "doc2vec_df.columns = [\"doc2vec_vector_\" + str(x) for x in doc2vec_df.columns]\n",
        "df = pd.concat([df, doc2vec_df], axis=1)"
      ]
    },
    {
      "cell_type": "code",
      "execution_count": null,
      "metadata": {
        "colab": {
          "base_uri": "https://localhost:8080/"
        },
        "id": "iIz-o0IS0R3Q",
        "outputId": "f42f8c49-b665-46a0-ca30-50871108798e"
      },
      "outputs": [
        {
          "output_type": "execute_result",
          "data": {
            "text/plain": [
              "1    0.5046\n",
              "0    0.4954\n",
              "Name: Rating, dtype: float64"
            ]
          },
          "metadata": {},
          "execution_count": 22
        }
      ],
      "source": [
        "# show is_bad_review distribution\n",
        "df[\"Rating\"].value_counts(normalize = True)"
      ]
    },
    {
      "cell_type": "code",
      "execution_count": null,
      "metadata": {
        "id": "5dif9kSo0UzS"
      },
      "outputs": [],
      "source": [
        "import matplotlib.pyplot as plt\n",
        "from wordcloud import WordCloud"
      ]
    },
    {
      "cell_type": "code",
      "execution_count": null,
      "metadata": {
        "colab": {
          "base_uri": "https://localhost:8080/",
          "height": 363
        },
        "id": "IhzNhBfD0r2R",
        "outputId": "da186cfb-51d0-43e8-c95e-1ba8777cb82f"
      },
      "outputs": [
        {
          "output_type": "execute_result",
          "data": {
            "text/plain": [
              "                                                   Reviews    pos\n",
              "600142   Thanks and God Bless . Thanks and God Bless fo...  0.694\n",
              "3574869  Fun, nice challeges. . Fun game, better graphi...  0.650\n",
              "3533096  Great, but . . . . The switch fit perfectly an...  0.649\n",
              "2859986  A must have! . Wonderful facts and great drawi...  0.647\n",
              "2068335  awesome! . I love, love, love this movie! I hi...  0.638\n",
              "1919426  Awesome! . She sings like an angel! Truly bles...  0.632\n",
              "2984178  Great gift .. . I sent this to a friend in Tex...  0.624\n",
              "1338725  great self help . Good book to help save lawye...  0.611\n",
              "1502026  good gift . soft on the inside and fits very w...  0.598\n",
              "3070896  is great . i wait a few days but i recived in ...  0.586"
            ],
            "text/html": [
              "\n",
              "  <div id=\"df-7c59fa97-a8ff-4899-ab06-2132da745a64\">\n",
              "    <div class=\"colab-df-container\">\n",
              "      <div>\n",
              "<style scoped>\n",
              "    .dataframe tbody tr th:only-of-type {\n",
              "        vertical-align: middle;\n",
              "    }\n",
              "\n",
              "    .dataframe tbody tr th {\n",
              "        vertical-align: top;\n",
              "    }\n",
              "\n",
              "    .dataframe thead th {\n",
              "        text-align: right;\n",
              "    }\n",
              "</style>\n",
              "<table border=\"1\" class=\"dataframe\">\n",
              "  <thead>\n",
              "    <tr style=\"text-align: right;\">\n",
              "      <th></th>\n",
              "      <th>Reviews</th>\n",
              "      <th>pos</th>\n",
              "    </tr>\n",
              "  </thead>\n",
              "  <tbody>\n",
              "    <tr>\n",
              "      <th>600142</th>\n",
              "      <td>Thanks and God Bless . Thanks and God Bless fo...</td>\n",
              "      <td>0.694</td>\n",
              "    </tr>\n",
              "    <tr>\n",
              "      <th>3574869</th>\n",
              "      <td>Fun, nice challeges. . Fun game, better graphi...</td>\n",
              "      <td>0.650</td>\n",
              "    </tr>\n",
              "    <tr>\n",
              "      <th>3533096</th>\n",
              "      <td>Great, but . . . . The switch fit perfectly an...</td>\n",
              "      <td>0.649</td>\n",
              "    </tr>\n",
              "    <tr>\n",
              "      <th>2859986</th>\n",
              "      <td>A must have! . Wonderful facts and great drawi...</td>\n",
              "      <td>0.647</td>\n",
              "    </tr>\n",
              "    <tr>\n",
              "      <th>2068335</th>\n",
              "      <td>awesome! . I love, love, love this movie! I hi...</td>\n",
              "      <td>0.638</td>\n",
              "    </tr>\n",
              "    <tr>\n",
              "      <th>1919426</th>\n",
              "      <td>Awesome! . She sings like an angel! Truly bles...</td>\n",
              "      <td>0.632</td>\n",
              "    </tr>\n",
              "    <tr>\n",
              "      <th>2984178</th>\n",
              "      <td>Great gift .. . I sent this to a friend in Tex...</td>\n",
              "      <td>0.624</td>\n",
              "    </tr>\n",
              "    <tr>\n",
              "      <th>1338725</th>\n",
              "      <td>great self help . Good book to help save lawye...</td>\n",
              "      <td>0.611</td>\n",
              "    </tr>\n",
              "    <tr>\n",
              "      <th>1502026</th>\n",
              "      <td>good gift . soft on the inside and fits very w...</td>\n",
              "      <td>0.598</td>\n",
              "    </tr>\n",
              "    <tr>\n",
              "      <th>3070896</th>\n",
              "      <td>is great . i wait a few days but i recived in ...</td>\n",
              "      <td>0.586</td>\n",
              "    </tr>\n",
              "  </tbody>\n",
              "</table>\n",
              "</div>\n",
              "      <button class=\"colab-df-convert\" onclick=\"convertToInteractive('df-7c59fa97-a8ff-4899-ab06-2132da745a64')\"\n",
              "              title=\"Convert this dataframe to an interactive table.\"\n",
              "              style=\"display:none;\">\n",
              "        \n",
              "  <svg xmlns=\"http://www.w3.org/2000/svg\" height=\"24px\"viewBox=\"0 0 24 24\"\n",
              "       width=\"24px\">\n",
              "    <path d=\"M0 0h24v24H0V0z\" fill=\"none\"/>\n",
              "    <path d=\"M18.56 5.44l.94 2.06.94-2.06 2.06-.94-2.06-.94-.94-2.06-.94 2.06-2.06.94zm-11 1L8.5 8.5l.94-2.06 2.06-.94-2.06-.94L8.5 2.5l-.94 2.06-2.06.94zm10 10l.94 2.06.94-2.06 2.06-.94-2.06-.94-.94-2.06-.94 2.06-2.06.94z\"/><path d=\"M17.41 7.96l-1.37-1.37c-.4-.4-.92-.59-1.43-.59-.52 0-1.04.2-1.43.59L10.3 9.45l-7.72 7.72c-.78.78-.78 2.05 0 2.83L4 21.41c.39.39.9.59 1.41.59.51 0 1.02-.2 1.41-.59l7.78-7.78 2.81-2.81c.8-.78.8-2.07 0-2.86zM5.41 20L4 18.59l7.72-7.72 1.47 1.35L5.41 20z\"/>\n",
              "  </svg>\n",
              "      </button>\n",
              "      \n",
              "  <style>\n",
              "    .colab-df-container {\n",
              "      display:flex;\n",
              "      flex-wrap:wrap;\n",
              "      gap: 12px;\n",
              "    }\n",
              "\n",
              "    .colab-df-convert {\n",
              "      background-color: #E8F0FE;\n",
              "      border: none;\n",
              "      border-radius: 50%;\n",
              "      cursor: pointer;\n",
              "      display: none;\n",
              "      fill: #1967D2;\n",
              "      height: 32px;\n",
              "      padding: 0 0 0 0;\n",
              "      width: 32px;\n",
              "    }\n",
              "\n",
              "    .colab-df-convert:hover {\n",
              "      background-color: #E2EBFA;\n",
              "      box-shadow: 0px 1px 2px rgba(60, 64, 67, 0.3), 0px 1px 3px 1px rgba(60, 64, 67, 0.15);\n",
              "      fill: #174EA6;\n",
              "    }\n",
              "\n",
              "    [theme=dark] .colab-df-convert {\n",
              "      background-color: #3B4455;\n",
              "      fill: #D2E3FC;\n",
              "    }\n",
              "\n",
              "    [theme=dark] .colab-df-convert:hover {\n",
              "      background-color: #434B5C;\n",
              "      box-shadow: 0px 1px 3px 1px rgba(0, 0, 0, 0.15);\n",
              "      filter: drop-shadow(0px 1px 2px rgba(0, 0, 0, 0.3));\n",
              "      fill: #FFFFFF;\n",
              "    }\n",
              "  </style>\n",
              "\n",
              "      <script>\n",
              "        const buttonEl =\n",
              "          document.querySelector('#df-7c59fa97-a8ff-4899-ab06-2132da745a64 button.colab-df-convert');\n",
              "        buttonEl.style.display =\n",
              "          google.colab.kernel.accessAllowed ? 'block' : 'none';\n",
              "\n",
              "        async function convertToInteractive(key) {\n",
              "          const element = document.querySelector('#df-7c59fa97-a8ff-4899-ab06-2132da745a64');\n",
              "          const dataTable =\n",
              "            await google.colab.kernel.invokeFunction('convertToInteractive',\n",
              "                                                     [key], {});\n",
              "          if (!dataTable) return;\n",
              "\n",
              "          const docLinkHtml = 'Like what you see? Visit the ' +\n",
              "            '<a target=\"_blank\" href=https://colab.research.google.com/notebooks/data_table.ipynb>data table notebook</a>'\n",
              "            + ' to learn more about interactive tables.';\n",
              "          element.innerHTML = '';\n",
              "          dataTable['output_type'] = 'display_data';\n",
              "          await google.colab.output.renderOutput(dataTable, element);\n",
              "          const docLink = document.createElement('div');\n",
              "          docLink.innerHTML = docLinkHtml;\n",
              "          element.appendChild(docLink);\n",
              "        }\n",
              "      </script>\n",
              "    </div>\n",
              "  </div>\n",
              "  "
            ]
          },
          "metadata": {},
          "execution_count": 24
        }
      ],
      "source": [
        "# highest positive sentiment reviews (with more than 5 words)\n",
        "df[df[\"nb_words\"] >= 5].sort_values(\"pos\", ascending = False)[[\"Reviews\", \"pos\"]].head(10)"
      ]
    },
    {
      "cell_type": "code",
      "execution_count": null,
      "metadata": {
        "colab": {
          "base_uri": "https://localhost:8080/",
          "height": 363
        },
        "id": "Joc0UsGv0w7o",
        "outputId": "374dafa9-faf2-4319-bfa2-b587f4ba0799"
      },
      "outputs": [
        {
          "output_type": "execute_result",
          "data": {
            "text/plain": [
              "                                                   Reviews    neg\n",
              "45442    Not good . Did not like the book really boring...  0.489\n",
              "752170   worst book ever . contains almost no illustrat...  0.486\n",
              "1385429  Hmmm, let's see now... . ...Vomit-inducing, un...  0.485\n",
              "1670129  Bad Choice . Unfortunately it was the worst pr...  0.460\n",
              "971267   Bad product . Sold me a bad product and it was...  0.443\n",
              "112539   waste of money . Half of the time your A STUPI...  0.440\n",
              "1369466  Engine failed . The waterject failed to operat...  0.435\n",
              "2391738  Terrible, terrible, terrible . I had the same ...  0.426\n",
              "489406   Outrage with Banderas . This movie is horrible...  0.424\n",
              "2434994  Very Bad Movie!! . This was a very very bad mo...  0.407"
            ],
            "text/html": [
              "\n",
              "  <div id=\"df-ce69e620-b8c4-4568-9fd4-9b71e0064b76\">\n",
              "    <div class=\"colab-df-container\">\n",
              "      <div>\n",
              "<style scoped>\n",
              "    .dataframe tbody tr th:only-of-type {\n",
              "        vertical-align: middle;\n",
              "    }\n",
              "\n",
              "    .dataframe tbody tr th {\n",
              "        vertical-align: top;\n",
              "    }\n",
              "\n",
              "    .dataframe thead th {\n",
              "        text-align: right;\n",
              "    }\n",
              "</style>\n",
              "<table border=\"1\" class=\"dataframe\">\n",
              "  <thead>\n",
              "    <tr style=\"text-align: right;\">\n",
              "      <th></th>\n",
              "      <th>Reviews</th>\n",
              "      <th>neg</th>\n",
              "    </tr>\n",
              "  </thead>\n",
              "  <tbody>\n",
              "    <tr>\n",
              "      <th>45442</th>\n",
              "      <td>Not good . Did not like the book really boring...</td>\n",
              "      <td>0.489</td>\n",
              "    </tr>\n",
              "    <tr>\n",
              "      <th>752170</th>\n",
              "      <td>worst book ever . contains almost no illustrat...</td>\n",
              "      <td>0.486</td>\n",
              "    </tr>\n",
              "    <tr>\n",
              "      <th>1385429</th>\n",
              "      <td>Hmmm, let's see now... . ...Vomit-inducing, un...</td>\n",
              "      <td>0.485</td>\n",
              "    </tr>\n",
              "    <tr>\n",
              "      <th>1670129</th>\n",
              "      <td>Bad Choice . Unfortunately it was the worst pr...</td>\n",
              "      <td>0.460</td>\n",
              "    </tr>\n",
              "    <tr>\n",
              "      <th>971267</th>\n",
              "      <td>Bad product . Sold me a bad product and it was...</td>\n",
              "      <td>0.443</td>\n",
              "    </tr>\n",
              "    <tr>\n",
              "      <th>112539</th>\n",
              "      <td>waste of money . Half of the time your A STUPI...</td>\n",
              "      <td>0.440</td>\n",
              "    </tr>\n",
              "    <tr>\n",
              "      <th>1369466</th>\n",
              "      <td>Engine failed . The waterject failed to operat...</td>\n",
              "      <td>0.435</td>\n",
              "    </tr>\n",
              "    <tr>\n",
              "      <th>2391738</th>\n",
              "      <td>Terrible, terrible, terrible . I had the same ...</td>\n",
              "      <td>0.426</td>\n",
              "    </tr>\n",
              "    <tr>\n",
              "      <th>489406</th>\n",
              "      <td>Outrage with Banderas . This movie is horrible...</td>\n",
              "      <td>0.424</td>\n",
              "    </tr>\n",
              "    <tr>\n",
              "      <th>2434994</th>\n",
              "      <td>Very Bad Movie!! . This was a very very bad mo...</td>\n",
              "      <td>0.407</td>\n",
              "    </tr>\n",
              "  </tbody>\n",
              "</table>\n",
              "</div>\n",
              "      <button class=\"colab-df-convert\" onclick=\"convertToInteractive('df-ce69e620-b8c4-4568-9fd4-9b71e0064b76')\"\n",
              "              title=\"Convert this dataframe to an interactive table.\"\n",
              "              style=\"display:none;\">\n",
              "        \n",
              "  <svg xmlns=\"http://www.w3.org/2000/svg\" height=\"24px\"viewBox=\"0 0 24 24\"\n",
              "       width=\"24px\">\n",
              "    <path d=\"M0 0h24v24H0V0z\" fill=\"none\"/>\n",
              "    <path d=\"M18.56 5.44l.94 2.06.94-2.06 2.06-.94-2.06-.94-.94-2.06-.94 2.06-2.06.94zm-11 1L8.5 8.5l.94-2.06 2.06-.94-2.06-.94L8.5 2.5l-.94 2.06-2.06.94zm10 10l.94 2.06.94-2.06 2.06-.94-2.06-.94-.94-2.06-.94 2.06-2.06.94z\"/><path d=\"M17.41 7.96l-1.37-1.37c-.4-.4-.92-.59-1.43-.59-.52 0-1.04.2-1.43.59L10.3 9.45l-7.72 7.72c-.78.78-.78 2.05 0 2.83L4 21.41c.39.39.9.59 1.41.59.51 0 1.02-.2 1.41-.59l7.78-7.78 2.81-2.81c.8-.78.8-2.07 0-2.86zM5.41 20L4 18.59l7.72-7.72 1.47 1.35L5.41 20z\"/>\n",
              "  </svg>\n",
              "      </button>\n",
              "      \n",
              "  <style>\n",
              "    .colab-df-container {\n",
              "      display:flex;\n",
              "      flex-wrap:wrap;\n",
              "      gap: 12px;\n",
              "    }\n",
              "\n",
              "    .colab-df-convert {\n",
              "      background-color: #E8F0FE;\n",
              "      border: none;\n",
              "      border-radius: 50%;\n",
              "      cursor: pointer;\n",
              "      display: none;\n",
              "      fill: #1967D2;\n",
              "      height: 32px;\n",
              "      padding: 0 0 0 0;\n",
              "      width: 32px;\n",
              "    }\n",
              "\n",
              "    .colab-df-convert:hover {\n",
              "      background-color: #E2EBFA;\n",
              "      box-shadow: 0px 1px 2px rgba(60, 64, 67, 0.3), 0px 1px 3px 1px rgba(60, 64, 67, 0.15);\n",
              "      fill: #174EA6;\n",
              "    }\n",
              "\n",
              "    [theme=dark] .colab-df-convert {\n",
              "      background-color: #3B4455;\n",
              "      fill: #D2E3FC;\n",
              "    }\n",
              "\n",
              "    [theme=dark] .colab-df-convert:hover {\n",
              "      background-color: #434B5C;\n",
              "      box-shadow: 0px 1px 3px 1px rgba(0, 0, 0, 0.15);\n",
              "      filter: drop-shadow(0px 1px 2px rgba(0, 0, 0, 0.3));\n",
              "      fill: #FFFFFF;\n",
              "    }\n",
              "  </style>\n",
              "\n",
              "      <script>\n",
              "        const buttonEl =\n",
              "          document.querySelector('#df-ce69e620-b8c4-4568-9fd4-9b71e0064b76 button.colab-df-convert');\n",
              "        buttonEl.style.display =\n",
              "          google.colab.kernel.accessAllowed ? 'block' : 'none';\n",
              "\n",
              "        async function convertToInteractive(key) {\n",
              "          const element = document.querySelector('#df-ce69e620-b8c4-4568-9fd4-9b71e0064b76');\n",
              "          const dataTable =\n",
              "            await google.colab.kernel.invokeFunction('convertToInteractive',\n",
              "                                                     [key], {});\n",
              "          if (!dataTable) return;\n",
              "\n",
              "          const docLinkHtml = 'Like what you see? Visit the ' +\n",
              "            '<a target=\"_blank\" href=https://colab.research.google.com/notebooks/data_table.ipynb>data table notebook</a>'\n",
              "            + ' to learn more about interactive tables.';\n",
              "          element.innerHTML = '';\n",
              "          dataTable['output_type'] = 'display_data';\n",
              "          await google.colab.output.renderOutput(dataTable, element);\n",
              "          const docLink = document.createElement('div');\n",
              "          docLink.innerHTML = docLinkHtml;\n",
              "          element.appendChild(docLink);\n",
              "        }\n",
              "      </script>\n",
              "    </div>\n",
              "  </div>\n",
              "  "
            ]
          },
          "metadata": {},
          "execution_count": 25
        }
      ],
      "source": [
        "# lowest negative sentiment reviews (with more than 5 words)\n",
        "df[df[\"nb_words\"] >= 5].sort_values(\"neg\", ascending = False)[[\"Reviews\", \"neg\"]].head(10)"
      ]
    },
    {
      "cell_type": "code",
      "execution_count": null,
      "metadata": {
        "colab": {
          "base_uri": "https://localhost:8080/",
          "height": 893
        },
        "id": "wDJI2C3K02Xw",
        "outputId": "8a1fd241-1ae0-4069-afc1-33c5de34e0da"
      },
      "outputs": [
        {
          "output_type": "stream",
          "name": "stderr",
          "text": [
            "<ipython-input-26-e05d14c693a7>:9: UserWarning: \n",
            "\n",
            "`distplot` is a deprecated function and will be removed in seaborn v0.14.0.\n",
            "\n",
            "Please adapt your code to use either `displot` (a figure-level function with\n",
            "similar flexibility) or `kdeplot` (an axes-level function for kernel density plots).\n",
            "\n",
            "For a guide to updating your code to use the new functions, please see\n",
            "https://gist.github.com/mwaskom/de44147ed2974457ad6372750bbe5751\n",
            "\n",
            "  sns.distplot(subset['compound'], hist = False, label = label)\n",
            "<ipython-input-26-e05d14c693a7>:9: UserWarning: \n",
            "\n",
            "`distplot` is a deprecated function and will be removed in seaborn v0.14.0.\n",
            "\n",
            "Please adapt your code to use either `displot` (a figure-level function with\n",
            "similar flexibility) or `kdeplot` (an axes-level function for kernel density plots).\n",
            "\n",
            "For a guide to updating your code to use the new functions, please see\n",
            "https://gist.github.com/mwaskom/de44147ed2974457ad6372750bbe5751\n",
            "\n",
            "  sns.distplot(subset['compound'], hist = False, label = label)\n"
          ]
        },
        {
          "output_type": "execute_result",
          "data": {
            "text/plain": [
              "<matplotlib.legend.Legend at 0x7f0296c03b80>"
            ]
          },
          "metadata": {},
          "execution_count": 26
        },
        {
          "output_type": "display_data",
          "data": {
            "text/plain": [
              "<Figure size 640x480 with 1 Axes>"
            ],
            "image/png": "[encoded data removed]"
          },
          "metadata": {}
        }
      ],
      "source": [
        "for x in [0, 1]:\n",
        "    subset = df[df['Rating'] == x]\n",
        "\n",
        "    # Draw the density plot\n",
        "    if x == 0:\n",
        "        label = \"Good reviews\"\n",
        "    else:\n",
        "        label = \"Bad reviews\"\n",
        "    sns.distplot(subset['compound'], hist = False, label = label)\n",
        "plt.legend()"
      ]
    },
    {
      "cell_type": "code",
      "execution_count": null,
      "metadata": {
        "id": "6h2IL84u06Iw"
      },
      "outputs": [],
      "source": [
        "from sklearn.model_selection import train_test_split"
      ]
    },
    {
      "cell_type": "code",
      "execution_count": null,
      "metadata": {
        "id": "GLOhgRfb1IzF"
      },
      "outputs": [],
      "source": [
        "# feature selection\n",
        "label = \"Rating\"\n",
        "ignore_cols = [label, \"Reviews\", \"review_clean\"]\n",
        "features = [c for c in df.columns if c not in ignore_cols]"
      ]
    },
    {
      "cell_type": "code",
      "execution_count": null,
      "metadata": {
        "id": "lRsCidUl1K-B"
      },
      "outputs": [],
      "source": [
        "# Split the dataset into training and testing sets\n",
        "X_train, X_test, y_train, y_test = train_test_split(df[features], df[label], test_size = 0.20, random_state = 42)"
      ]
    },
    {
      "cell_type": "markdown",
      "metadata": {
        "id": "1NiLxLEXLKoJ"
      },
      "source": [
        "# MODEL TRAINING"
      ]
    },
    {
      "cell_type": "code",
      "execution_count": null,
      "metadata": {
        "id": "CkkmQNsR1NSZ"
      },
      "outputs": [],
      "source": [
        "from sklearn.linear_model import LogisticRegression\n",
        "from sklearn.linear_model import LogisticRegressionCV\n",
        "from sklearn.metrics import accuracy_score, precision_score, recall_score, f1_score, roc_auc_score\n",
        "from sklearn.metrics import accuracy_score, precision_score, recall_score, f1_score, roc_auc_score\n",
        "from sklearn.metrics import roc_curve, auc, roc_auc_score, average_precision_score, precision_recall_curve, accuracy_score"
      ]
    },
    {
      "cell_type": "markdown",
      "metadata": {
        "id": "04NINm6ILXaZ"
      },
      "source": [
        "LogisticRegression"
      ]
    },
    {
      "cell_type": "code",
      "source": [
        "df['review_clean'][2079998]"
      ],
      "metadata": {
        "colab": {
          "base_uri": "https://localhost:8080/",
          "height": 110
        },
        "id": "Olvds-0gKP7e",
        "outputId": "95bbff11-3dc7-4e94-91ab-2662e3ba8edc"
      },
      "execution_count": null,
      "outputs": [
        {
          "output_type": "execute_result",
          "data": {
            "text/plain": [
              "'expensive junk product consists piece thin flexible insulating material adhesive backed velcro white electrical instruction three picture little velcro crumpled received stronger adhesive tried disengage velcro piece came paint white electrical tape horrible cheap narrow fell le price ripoff.i building easier use cheaper attractive higher r-value surprised amazon even list junk'"
            ],
            "application/vnd.google.colaboratory.intrinsic+json": {
              "type": "string"
            }
          },
          "metadata": {},
          "execution_count": 31
        }
      ]
    },
    {
      "cell_type": "code",
      "source": [
        "# Fit the logistic regression model\n",
        "lr = LogisticRegression(max_iter=5000)\n",
        "lr.fit(X_train, y_train)\n",
        "\n",
        "# Obtain predictions on the testing data\n",
        "lr_preds = lr.predict(X_test)\n",
        "\n",
        "# Convert the predicted labels to positive (1) or negative (0) based on a threshold\n",
        "threshold = 0.5\n",
        "predicted_sentiment = ['Positive' if pred >= threshold else 'Negative' for pred in lr_preds]\n",
        "\n",
        "# Add the 'review_clean' column back to the DataFrame\n",
        "X_test['review_clean'] = df.loc[X_test.index, 'review_clean']\n",
        "\n",
        "# Print the reviews along with their predicted sentiment\n",
        "for review, sentiment in zip(X_test['review_clean'], predicted_sentiment):\n",
        "    print(f\"Review: {review}\")\n",
        "    print(f\"Sentiment: {sentiment}\")\n",
        "    print('expensive junk product consists piece thin flexible insulating material adhesive backed velcro white electrical instruction three picture little velcro crumpled received stronger adhesive tried disengage velcro piece came paint white electrical tape horrible cheap narrow fell le price ripoff.i building easier use cheaper attractive higher r-value surprised amazon even list junk')\n",
        "    print('hiring manager also job seeker good book use hiring manager job seeker job seeker help prepare wide array question really open mind build confidence going interview')"
      ],
      "metadata": {
        "id": "olTJ_OlJD49J"
      },
      "execution_count": null,
      "outputs": []
    },
    {
      "cell_type": "code",
      "source": [
        "# Get the predicted probabilities for the positive class\n",
        "lr_preds_prob = lr.predict_proba(X_test)[:, 1]\n",
        "\n",
        "# Calculate the false positive rate (FPR), true positive rate (TPR), and thresholds\n",
        "fpr, tpr, thresholds = roc_curve(y_test, lr2_preds_prob, pos_label=1)\n",
        "\n",
        "# Calculate the area under the ROC curve (AUC)\n",
        "roc_auc = auc(fpr, tpr)\n",
        "\n",
        "# Plot the ROC curve\n",
        "plt.figure(figsize=(10, 5))\n",
        "plt.plot(fpr, tpr, color='darkorange', lw=2, label='ROC curve (AUC = %0.2f)' % roc_auc)\n",
        "plt.plot([0, 1], [0, 1], color='navy', lw=2, linestyle='--')\n",
        "plt.xlim([0.0, 1.0])\n",
        "plt.ylim([0.0, 1.0])\n",
        "plt.xlabel('False Positive Rate')\n",
        "plt.ylabel('True Positive Rate')\n",
        "plt.title('Receiver Operating Characteristic')\n",
        "plt.legend(loc=\"lower right\")\n",
        "plt.show()"
      ],
      "metadata": {
        "id": "p3w1RxbhH6p7"
      },
      "execution_count": null,
      "outputs": []
    }
  ],
  "metadata": {
    "accelerator": "GPU",
    "colab": {
      "provenance": []
    },
    "kernelspec": {
      "display_name": "Python 3",
      "name": "python3"
    },
    "language_info": {
      "name": "python"
    }
  },
  "nbformat": 4,
  "nbformat_minor": 0
}